{
 "cells": [
  {
   "cell_type": "code",
   "execution_count": 70,
   "metadata": {},
   "outputs": [],
   "source": [
    "# import stuff\n",
    "import os\n",
    "from keras.preprocessing.image import load_img, image_dataset_from_directory\n",
    "from keras.preprocessing.image import img_to_array\n",
    "from keras.applications.vgg16 import preprocess_input\n",
    "from keras.applications.vgg16 import decode_predictions\n",
    "from keras.applications.vgg16 import VGG16"
   ]
  },
  {
   "cell_type": "code",
   "execution_count": 45,
   "metadata": {
    "pycharm": {
     "name": "#%%\n"
    }
   },
   "outputs": [],
   "source": [
    "# load the model\n",
    "model = VGG16()"
   ]
  },
  {
   "cell_type": "code",
   "execution_count": 110,
   "outputs": [],
   "source": [
    "dog_breeds = []\n",
    "with open(\"dog_breeds.txt\", encoding = 'utf-8') as f:\n",
    "     for line in f:\n",
    "          line = str(line)\n",
    "          dog_breeds.append(line.replace('\\n', ''))\n",
    "\n",
    "cat_breeds = []\n",
    "with open(\"cat_breeds.txt\", encoding = 'utf-8') as f:\n",
    "     for line in f:\n",
    "          line = str(line)\n",
    "          cat_breeds.append(line.replace('\\n', ''))"
   ],
   "metadata": {
    "collapsed": false,
    "pycharm": {
     "name": "#%%\n"
    }
   }
  },
  {
   "cell_type": "code",
   "execution_count": 111,
   "outputs": [],
   "source": [
    "# load an image from file\n",
    "image = load_img('input/dog.jpg', target_size=(224, 224))\n",
    "\n",
    "# load images from directory\n",
    "directory_in_str = \"input/cats\"\n",
    "directory = os.fsencode(directory_in_str)\n",
    "img_paths = []\n",
    "\n",
    "for file in os.listdir(directory):\n",
    "     filename = os.fsdecode(file)\n",
    "     img = load_img(directory_in_str+ \"/\" + filename, target_size=(224, 224))\n",
    "     img_paths.append(directory_in_str+\"/\"+filename)"
   ],
   "metadata": {
    "collapsed": false,
    "pycharm": {
     "name": "#%%\n"
    }
   }
  },
  {
   "cell_type": "code",
   "execution_count": null,
   "outputs": [],
   "source": [
    "for path in img_paths:\n",
    "     image_ = load_img(path, target_size=(224, 224))\n",
    "     image = img_to_array(image_)\n",
    "     image = image.reshape((1, image.shape[0], image.shape[1], image.shape[2]))\n",
    "     image = preprocess_input(image)\n",
    "     yhat = model.predict(image)\n",
    "     label = decode_predictions(yhat)\n",
    "     label = label[0][0]\n",
    "     display(image_)\n",
    "     if label[1] in dog_breeds:\n",
    "          print('Dog - %s (%.2f%%)' % (label[1], label[2]*100))\n",
    "     elif label[1] in cat_breeds:\n",
    "          print('cat - %s (%.2f%%)' % (label[1], label[2]*100))\n",
    "     else:\n",
    "          print('%s (%.2f%%)' % (label[1], label[2]*100))\n",
    "     print(\"\\n\")"
   ],
   "metadata": {
    "collapsed": false,
    "pycharm": {
     "name": "#%%\n",
     "is_executing": true
    }
   }
  },
  {
   "cell_type": "code",
   "execution_count": 55,
   "metadata": {
    "pycharm": {
     "name": "#%%\n"
    }
   },
   "outputs": [],
   "source": [
    "# convert the image pixels to a numpy array\n",
    "image = img_to_array(image)"
   ]
  },
  {
   "cell_type": "code",
   "execution_count": 56,
   "metadata": {
    "pycharm": {
     "name": "#%%\n"
    }
   },
   "outputs": [],
   "source": [
    "# reshape data for the model\n",
    "image = image.reshape((1, image.shape[0], image.shape[1], image.shape[2]))"
   ]
  },
  {
   "cell_type": "code",
   "execution_count": 57,
   "metadata": {
    "pycharm": {
     "name": "#%%\n"
    }
   },
   "outputs": [],
   "source": [
    "# prepare the image for the VGG model\n",
    "image = preprocess_input(image)"
   ]
  },
  {
   "cell_type": "code",
   "execution_count": 58,
   "metadata": {
    "pycharm": {
     "name": "#%%\n"
    }
   },
   "outputs": [],
   "source": [
    "# predict the probability across all output classes\n",
    "yhat = model.predict(image)"
   ]
  },
  {
   "cell_type": "code",
   "execution_count": 59,
   "metadata": {
    "pycharm": {
     "name": "#%%\n"
    }
   },
   "outputs": [],
   "source": [
    "# convert the probabilities to class labels\n",
    "label = decode_predictions(yhat)"
   ]
  },
  {
   "cell_type": "code",
   "execution_count": 60,
   "metadata": {
    "pycharm": {
     "name": "#%%\n"
    }
   },
   "outputs": [],
   "source": [
    "# convert the probabilities to class labels\n",
    "label = label[0][0]"
   ]
  },
  {
   "cell_type": "code",
   "execution_count": 61,
   "metadata": {
    "pycharm": {
     "name": "#%%\n"
    }
   },
   "outputs": [
    {
     "name": "stdout",
     "output_type": "stream",
     "text": [
      "Labrador_retriever (60.21%)\n"
     ]
    }
   ],
   "source": [
    "# print the classification\n",
    "print('%s (%.2f%%)' % (label[1], label[2]*100))"
   ]
  }
 ],
 "metadata": {
  "kernelspec": {
   "display_name": "Python 3",
   "language": "python",
   "name": "python3"
  },
  "language_info": {
   "codemirror_mode": {
    "name": "ipython",
    "version": 3
   },
   "file_extension": ".py",
   "mimetype": "text/x-python",
   "name": "python",
   "nbconvert_exporter": "python",
   "pygments_lexer": "ipython3",
   "version": "3.8.7"
  }
 },
 "nbformat": 4,
 "nbformat_minor": 1
}